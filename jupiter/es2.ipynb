{
 "cells": [
  {
   "cell_type": "code",
   "execution_count": 1,
   "id": "33a11e0e-6538-4c0e-a134-254560bc0ea9",
   "metadata": {},
   "outputs": [
    {
     "name": "stdout",
     "output_type": "stream",
     "text": [
      "Norme di A:\n",
      "Norma1 =  3.001 \n",
      "\n",
      "Norma2 =  2.500200104037774 \n",
      "\n",
      "Normafro =  2.5002003919686118 \n",
      "\n",
      "Norma infinito =  3.0 \n",
      "\n"
     ]
    }
   ],
   "source": [
    "\"\"\"Matrici e norme\n",
    "Exercise 1.1. Si consideri la matrice A\n",
    "\n",
    "    A =([[1, 2], [0.499, 1.001]])\n",
    "\n",
    "• Calcolare la norma 1, la norma 2, la norma Frobenius e la norma infinito di A con \n",
    "numpy.linalg.norm() (guardare l’help della funzione).\"\"\"\n",
    "\n",
    "import numpy as np\n",
    "import sys\n",
    "#help(np.linalg) # View source\n",
    "#help (np.linalg.norm)\n",
    "#help (np.linalg.cond)\n",
    "\n",
    "n = 2\n",
    "A = np.array([[1, 2], [0.499, 1.001]])\n",
    "print ('Norme di A:')\n",
    "norm1 = np.linalg.norm(A,1)\n",
    "norm2 = np.linalg.norm(A,2)\n",
    "normfro = np.linalg.norm(A,'fro')\n",
    "norminf = np.linalg.norm(A,np.inf)\n",
    "\n",
    "print('Norma1 = ', norm1, '\\n')\n",
    "print('Norma2 = ', norm2, '\\n')\n",
    "print('Normafro = ', normfro, '\\n')\n",
    "print('Norma infinito = ', norminf, '\\n')"
   ]
  },
  {
   "cell_type": "code",
   "execution_count": 2,
   "id": "dd11eca6-1aa9-42c1-8d8f-0056ce1eeda0",
   "metadata": {},
   "outputs": [
    {
     "name": "stdout",
     "output_type": "stream",
     "text": [
      "K(A)_1 =  3001.0000000001082 \n",
      "\n",
      "K(A)_2 =  2083.666853410337 \n",
      "\n",
      "K(A)_fro = 2083.6673333334084 \n",
      "\n",
      "K(A)_inf = 3001.0000000001082 \n",
      "\n"
     ]
    }
   ],
   "source": [
    "\"\"\"• Calcolare il numero di condizionamento di A con numpy.linalg.cond() \n",
    "(guardare l’help della funzione).\n",
    "\"\"\"\n",
    "\n",
    "cond1 = np.linalg.cond(A, 1)\n",
    "cond2 = np.linalg.cond(A, 2)\n",
    "condfro = np.linalg.cond(A, 'fro')\n",
    "condinf = np.linalg.cond(A, np.inf)\n",
    "\n",
    "print ('K(A)_1 = ', cond1, '\\n')\n",
    "print ('K(A)_2 = ', cond2, '\\n')\n",
    "print ('K(A)_fro =', condfro, '\\n')\n",
    "print ('K(A)_inf =', condinf, '\\n')"
   ]
  },
  {
   "cell_type": "code",
   "execution_count": 3,
   "id": "3c0c7462-c927-414f-9f96-aa4737f77d66",
   "metadata": {},
   "outputs": [
    {
     "name": "stdout",
     "output_type": "stream",
     "text": [
      "b= [[3. ]\n",
      " [1.5]] \n",
      "\n"
     ]
    }
   ],
   "source": [
    "\"\"\"• Considerare il vettore colonna x = (1, 1)T\n",
    "e calcolare il corrispondente termine noto b per il sistema\n",
    "lineare Ax = b.\"\"\"\n",
    "\n",
    "#x = np.array([[1], [1]])\n",
    "x = np.ones((2, 1))\n",
    "#x = np.array([[1, 1]]).T\n",
    "# Ax = b\n",
    "b = A.dot(x)\n",
    "print ('b=',b,'\\n')"
   ]
  },
  {
   "cell_type": "code",
   "execution_count": 4,
   "id": "447b85c7-cecc-42e1-881d-5fef9d561ca1",
   "metadata": {},
   "outputs": [
    {
     "name": "stdout",
     "output_type": "stream",
     "text": [
      "A*xtilde =  [[3.    ]\n",
      " [1.4985]] \n",
      "\n"
     ]
    }
   ],
   "source": [
    "\"\"\"\n",
    "• Considerare ora il vettore ˜b = (3, 1.4985)T\n",
    "e verifica che ˜x = (2, 0.5)T `e soluzione del sistema Ax˜ = ˜b\"\"\"\n",
    "\n",
    "btilde = np.array([[3], [1.4985]])\n",
    "#xtilde = np.array([[2], [0.5]])\n",
    "xtilde = np.array([[2, 0.5]]).T\n",
    "\n",
    "# Verificare che xtilde è soluzione di A xtilde = btilde\n",
    "# A * xtilde = btilde\n",
    "print ('A*xtilde = ', A.dot(xtilde) , '\\n')"
   ]
  },
  {
   "cell_type": "code",
   "execution_count": 5,
   "id": "57b6675d-2369-4fdb-ad7c-f19fcae94265",
   "metadata": {},
   "outputs": [
    {
     "name": "stdout",
     "output_type": "stream",
     "text": [
      "delta x =  1.118033988749895\n",
      "delta b =  0.0015000000000000568\n"
     ]
    }
   ],
   "source": [
    "\"\"\"\n",
    "• Calcolare la norma 2 della perturbazione sui termini noti ∆b = ∥b−˜b∥2 e la norma 2 della perturbazione\n",
    "sulle soluzioni ∆x = ∥x − x˜∥2. Confrontare ∆b con ∆x.\"\"\"\n",
    "\n",
    "deltax = np.linalg.norm(x-xtilde, ord=2)\n",
    "deltab = np.linalg.norm(b-btilde, ord=2)\n",
    "\n",
    "print ('delta x = ', deltax)\n",
    "print ('delta b = ', deltab)"
   ]
  },
  {
   "cell_type": "code",
   "execution_count": 6,
   "id": "ab043480-0895-42c2-879c-fc2421ca67a0",
   "metadata": {},
   "outputs": [
    {
     "name": "stdout",
     "output_type": "stream",
     "text": [
      "Matrice P (matrice di permutazione):\n",
      "[[1. 0. 0. 0.]\n",
      " [0. 1. 0. 0.]\n",
      " [0. 0. 1. 0.]\n",
      " [0. 0. 0. 1.]]\n",
      "Matrice L (matrice triangolare inferiore):\n",
      "[[1.         0.         0.         0.        ]\n",
      " [0.         1.         0.         0.        ]\n",
      " [0.33333333 0.16666667 1.         0.        ]\n",
      " [0.         1.         0.48979592 1.        ]]\n",
      "Matrice U (matrice triangolare superiore):\n",
      "[[ 3.         -1.          1.         -2.        ]\n",
      " [ 0.          2.          5.         -1.        ]\n",
      " [ 0.          0.         -8.16666667  1.83333333]\n",
      " [ 0.          0.          0.          1.10204082]]\n"
     ]
    }
   ],
   "source": [
    "##################################################\n",
    "##################################################\n",
    "##################################################\n",
    "##################################################\n",
    "\n",
    "\"\"\"Metodi diretti\n",
    "Exercise 2.1. Si consideri la matrice\n",
    "    A = np.array ([ [3,-1, 1,-2], [0, 2, 5, -1], [1, 0, -7, 1], [0, 2, 1, 1]  ])\n",
    "• Creare il problema test in cui il vettore della soluzione esatta è x = (1, 1, 1, 1)T\n",
    "e il vettore termine noto è b = Ax.\n",
    "• Guardare l’help del modulo scipy.linalg.decomp lu e usare una delle sue funzioni per calcolare la\n",
    "fattorizzazione LU di A con pivoting. Verificare la correttezza dell’output.\n",
    "    \"\"\"\n",
    "\n",
    "import scipy\n",
    "# help (scipy)\n",
    "import scipy.linalg\n",
    "# help (scipy.linalg)\n",
    "import scipy.linalg.decomp_lu as LUdec \n",
    "from scipy.linalg import lu, solve_triangular\n",
    "\n",
    "# help (LUdec)\n",
    "# help(scipy.linalg.lu_solve )\n",
    "\n",
    "# crazione dati e problema test\n",
    "A = np.array ([ [3,-1, 1,-2], [0, 2, 5, -1], [1, 0, -7, 1], [0, 2, 1, 1]  ])\n",
    "#vettore termine noto b\n",
    "b = np.dot(A, np.array([1, 1, 1, 1]))\n",
    "\n",
    "# Calcola la fattorizzazione LU di A con pivoting\n",
    "P, L, U = lu(A)\n",
    "\n",
    "# Verifica la correttezza dell'output\n",
    "print(\"Matrice P (matrice di permutazione):\")\n",
    "print(P)\n",
    "print(\"Matrice L (matrice triangolare inferiore):\")\n",
    "print(L)\n",
    "print(\"Matrice U (matrice triangolare superiore):\")\n",
    "print(U)"
   ]
  },
  {
   "cell_type": "code",
   "execution_count": 7,
   "id": "ed655957-868c-4c2b-b3c9-23b3ad89db63",
   "metadata": {},
   "outputs": [
    {
     "name": "stdout",
     "output_type": "stream",
     "text": [
      "Soluzione calcolata:\n",
      "[1. 1. 1. 1.]\n",
      "La soluzione è corretta.\n"
     ]
    }
   ],
   "source": [
    "\"\"\"\n",
    "• Risolvere il sistema lineare con la funzione lu solve del modulo decomp lu oppure con la funzione\n",
    "scipy.linalg.solve triangular.\n",
    "• Stampare la soluzione calcolata e valutarne la correttezza.  \n",
    "NB L’inversa di una matrice viene calcolata con la funzione np.linalg.inv\n",
    "    \"\"\"\n",
    "\n",
    "# Risolvi il sistema lineare Ax = b\n",
    "y = solve_triangular(L, np.dot(P, b), lower=True)\n",
    "x = solve_triangular(U, y)\n",
    "\n",
    "# Stampa la soluzione calcolata\n",
    "print(\"Soluzione calcolata:\")\n",
    "print(x)\n",
    "\n",
    "# Valuta la correttezza\n",
    "solution = np.array([1, 1, 1, 1])\n",
    "if np.allclose(x, solution): \n",
    "    #allclose Returns True if two arrays are element-wise equal within a tolerance.\n",
    "    print(\"La soluzione è corretta.\")\n",
    "else:\n",
    "    print(\"La soluzione non è corretta.\")"
   ]
  },
  {
   "cell_type": "code",
   "execution_count": 8,
   "id": "117af240-1987-44f0-b7ac-a09ae7003e30",
   "metadata": {},
   "outputs": [
    {
     "name": "stdout",
     "output_type": "stream",
     "text": [
      "lu [[ 3.         -1.          1.         -2.        ]\n",
      " [ 0.          2.          5.         -1.        ]\n",
      " [ 0.33333333  0.16666667 -8.16666667  1.83333333]\n",
      " [ 0.          1.          0.48979592  1.10204082]] \n",
      "\n",
      "piv [0 1 2 3] \n",
      "\n",
      "my_x = \n",
      " [1. 1. 1. 1.]\n",
      "norm = 4.440892098500626e-16\n",
      "\n",
      "Soluzione calcolata: \n",
      "1.00\n",
      "1.00\n",
      "errore relativo:  %e 2.2204460492503126e-16 \n",
      "\n"
     ]
    },
    {
     "name": "stderr",
     "output_type": "stream",
     "text": [
      "/tmp/ipykernel_9928/2070403792.py:5: DeprecationWarning: Please use `lu_factor` from the `scipy.linalg` namespace, the `scipy.linalg.decomp_lu` namespace is deprecated.\n",
      "  lu, piv =LUdec.lu_factor(A)\n",
      "/tmp/ipykernel_9928/2070403792.py:10: DeprecationWarning: Please use `lu_solve` from the `scipy.linalg` namespace, the `scipy.linalg.decomp_lu` namespace is deprecated.\n",
      "  my_x=LUdec.lu_solve((lu,piv),b)\n"
     ]
    }
   ],
   "source": [
    "######################################\n",
    "##ALTERNATIVA CON LUdec x err relativo\n",
    "\n",
    "#help(LUdec.lu_factor)\n",
    "lu, piv =LUdec.lu_factor(A)\n",
    "print('lu',lu,'\\n')\n",
    "print('piv',piv,'\\n')\n",
    "\n",
    "# risoluzione di    Ax = b   <--->  PLUx = b \n",
    "my_x=LUdec.lu_solve((lu,piv),b)\n",
    "print('my_x = \\n', my_x)\n",
    "print('norm =', scipy.linalg.norm(x-my_x))\n",
    "\n",
    "# verifica\n",
    "print('\\nSoluzione calcolata: ')\n",
    "for i in range(n):\n",
    "    print('%0.2f' %my_x[i])\n",
    "    \n",
    "#ERRORE RELATIVO\n",
    "err=np.linalg.norm(my_x-x,2)/np.linalg.norm(x)\n",
    "print('errore relativo: ','%e',err,'\\n')"
   ]
  },
  {
   "cell_type": "code",
   "execution_count": 9,
   "id": "12924b87-b1b5-4f8c-9b6a-43e5dcef70ff",
   "metadata": {},
   "outputs": [
    {
     "data": {
      "image/png": "[encoded data removed]",
      "text/plain": [
       "<Figure size 640x480 with 1 Axes>"
      ]
     },
     "metadata": {},
     "output_type": "display_data"
    },
    {
     "data": {
      "image/png": "[encoded data removed]",
      "text/plain": [
       "<Figure size 640x480 with 1 Axes>"
      ]
     },
     "metadata": {},
     "output_type": "display_data"
    }
   ],
   "source": [
    "##################################################\n",
    "##################################################\n",
    "    \n",
    "\"\"\"Exercise 2.2. \n",
    "Si ripeta l’esercizio precedente sulla matrice di Hilbert, che si pu`o generare con la funzione\n",
    "A = scipy.linalg.hilbert(n) per n = 5, . . . , 10. In particolare:\n",
    "• Calcolare il numero di condizionamento di A e rappresentarlo in un grafico al variare di n\n",
    "\n",
    "• Considerare il vettore colonna x = (1, . . . , 1)T , calcola il corrispondente termine noto \n",
    "b per il sistema lineare Ax = b e la relativa soluzione x̃ usando la fattorizzazione di Cholesky \n",
    "come nel caso precedente.\n",
    "\n",
    "• Si rappresenti l’errore relativo al variare delle dimensioni della matrice.\n",
    "NB La decomposizione di Cholesky viene calcolata con la funzione np.linalg.cholesky.\n",
    "\"\"\"\n",
    "import matplotlib.pyplot as plt\n",
    "from scipy.linalg import hilbert\n",
    "from numpy.linalg import cholesky\n",
    "\n",
    "n_values = range(5, 11)\n",
    "condition_numbers = np.zeros((6,1))\n",
    "relative_errors = np.zeros((6,1))\n",
    "\n",
    "x_exact = np.ones(10)\n",
    "\n",
    "for n in n_values:\n",
    "    A = hilbert(n)\n",
    "    condition_number = np.linalg.cond(A)\n",
    "    condition_numbers[n-5] = condition_number\n",
    "    \n",
    "    x_exact = np.ones(n)  # Vettore x con la dimensione adatta\n",
    "    \n",
    "    b = np.dot(A, x_exact)\n",
    "    \n",
    "    L = cholesky(A)\n",
    "    U = L.T  #matrice triangolare superiore\n",
    "    \n",
    "    y = np.linalg.solve(L, b)\n",
    "    x_calculated = np.linalg.solve(U, y)\n",
    "    \n",
    "    #err relat\n",
    "    relative_error = np.linalg.norm(x_exact - x_calculated) / np.linalg.norm(x_exact)\n",
    "    relative_errors[n-5] = relative_error\n",
    "\n",
    "plt.figure(1)\n",
    "plt.plot(n_values, condition_numbers, marker='o')\n",
    "plt.title('Numero di Condizionamento di Matrici di Hilbert')\n",
    "plt.xlabel('Dimensione della Matrice (n)')\n",
    "plt.ylabel('Numero di Condizionamento')\n",
    "plt.grid(True)\n",
    "\n",
    "plt.figure(2)\n",
    "plt.plot(n_values, relative_errors, marker='o')\n",
    "plt.title('Errore Relativo per Matrici di Hilbert')\n",
    "plt.xlabel('Dimensione della Matrice (n)')\n",
    "plt.ylabel('Errore Relativo')\n",
    "plt.yscale('log')\n",
    "plt.grid(True)\n",
    "\n",
    "plt.show()\n",
    "plt.show()"
   ]
  }
 ],
 "metadata": {
  "kernelspec": {
   "display_name": "Python 3 (ipykernel)",
   "language": "python",
   "name": "python3"
  },
  "language_info": {
   "codemirror_mode": {
    "name": "ipython",
    "version": 3
   },
   "file_extension": ".py",
   "mimetype": "text/x-python",
   "name": "python",
   "nbconvert_exporter": "python",
   "pygments_lexer": "ipython3",
   "version": "3.10.12"
  }
 },
 "nbformat": 4,
 "nbformat_minor": 5
}
