{
 "cells": [
  {
   "cell_type": "code",
   "execution_count": 1,
   "id": "841ab6f1-e88f-439b-90cf-7b322073c537",
   "metadata": {},
   "outputs": [
    {
     "name": "stdout",
     "output_type": "stream",
     "text": [
      "alpha test [1. 1. 1. 1. 1. 1. 1. 1. 1. 1.]\n",
      "alpha LU [1. 1. 1. 1. 1. 1. 1. 1. 1. 1.]\n"
     ]
    }
   ],
   "source": [
    "\"\"\"1 Problema minimi quadrati\n",
    "Data una matrice A di dimensioni m×n con m ≥ ned un vettore y di m componenti, il problema dei minimi\n",
    "quadrati `e il seguente:\n",
    "    α∗ = argmin||Aα − y||2\n",
    "            α            2\n",
    "Questo problema di minimo pu`o essere risolto in due modi:\n",
    "• Metodo delle equazioni normali. se A ha rango massimo il problema di minimo pu`o essere riscritto\n",
    "in maniera equivalente come segue:\n",
    "    A.T Aα = A.Ty\n",
    "Questo sistema si pu`o risolvere utilizzando la fattorizzazione LU o di Cholesky (dato che la matrice\n",
    "AT A `e simmetrica).\n",
    "• SVD. se A non ha rango massimo il problema `e sottodeterminato quindi avere pi`u di una soluzione.\n",
    "In questo casoi si considera la decomposizione SVD della matrice A = USV.T dove U ∈ Rm×m e V.T ∈ R\n",
    "n×n matrici ortogonali e S ∈ Rm×n diagonale. e da questa decomposizione si pu`o calcolare\n",
    "esplicitemente la soluzione di minima norma del problema di minimi quadrati come segue:\n",
    "        r\n",
    "    α = { (ui.Ty)vi/si\n",
    "       i=0\"\"\"\n",
    "import numpy as np\n",
    "import matplotlib.pyplot as plt\n",
    "import scipy.linalg\n",
    "from scipy.linalg import lu_factor as LUdec \n",
    "\n",
    "m = 100\n",
    "n = 10\n",
    "\n",
    "A = np.random.rand(m,n)\n",
    "alpha_test = np.ones(n)\n",
    "y = A @ alpha_test\n",
    "\n",
    "print('alpha test', alpha_test)\n",
    "\n",
    "ATA = A.T@A\n",
    "ATy = A.T@y\n",
    "\n",
    "lu, piv = LUdec(ATA)\n",
    "alpha_LU = scipy.linalg.lu_solve((lu,piv), ATy)\n",
    "\n",
    "print('alpha LU', alpha_LU)"
   ]
  },
  {
   "cell_type": "code",
   "execution_count": 3,
   "id": "af318a11-fd54-4364-9347-baab25485a3c",
   "metadata": {},
   "outputs": [
    {
     "name": "stdout",
     "output_type": "stream",
     "text": [
      "alpha chol [1. 1. 1. 1. 1. 1. 1. 1. 1. 1.]\n",
      "Shape of U: (100, 100)\n",
      "Shape of s: (10,)\n",
      "Shape of V: (10, 10)\n",
      "alpha SVD [1. 1. 1. 1. 1. 1. 1. 1. 1. 1.]\n"
     ]
    }
   ],
   "source": [
    "\"\"\"Exercise 1.1. Assegnata una matrice A di numeri casuali di dimensione m × n con m > n, generata\n",
    "utilizzando la funzione np.random.rand, scegliere un vettore α (per esempio con elementi costanti) come\n",
    "soluzione per creare un problema test e calcolare il termine noto y = Aα.\n",
    "Definito quindi il problema di minimi quadrati con la matrice A ed il termine noto y calcolato:\n",
    "• Calcolare la soluzione del problema risolvendo le equazioni normali mediante la fattorizzazione LU e\n",
    "Cholesky.\n",
    "• Calcolare la soluzione del problema usando la SVD della matrice A.\n",
    "• Calcolare l’errore relativo delle soluzioni trovate, rispetto al vettore α, soluzione esatta, utilizzata per\n",
    "generare il problema test.\n",
    "    \"\"\"\n",
    "L = scipy.linalg.cholesky(ATA)\n",
    "x = scipy.linalg.solve_triangular(np.transpose(L), ATy, lower=True)\n",
    "alpha_chol = scipy.linalg.solve_triangular(L, x, lower=False)\n",
    "\n",
    "print('alpha chol', alpha_chol)\n",
    "\n",
    "U, s, Vh = scipy.linalg.svd(A)\n",
    "\n",
    "print('Shape of U:', U.shape)\n",
    "print('Shape of s:', s.shape)\n",
    "print('Shape of V:', Vh.T.shape)\n",
    "\n",
    "alpha_svd = np.zeros(s.shape)\n",
    "\n",
    "for i in range(n):\n",
    "  ui = U[:, i]\n",
    "  vi = Vh[i, :]\n",
    "  alpha_svd = alpha_svd + (np.dot(ui,y) * vi) / s[i] \n",
    "\n",
    "print('alpha SVD', alpha_svd)"
   ]
  },
  {
   "cell_type": "code",
   "execution_count": 4,
   "id": "05ff3b80-9594-4b9a-b3ca-85b6e6396b7d",
   "metadata": {},
   "outputs": [
    {
     "name": "stdout",
     "output_type": "stream",
     "text": [
      "[ 0.99315181  1.18619381 -0.77082962 -0.07787167  0.06176099 -0.00551072]\n"
     ]
    }
   ],
   "source": [
    "\"\"\"2 Approssimazione di un set di dati tramite Minimi Quadrati\n",
    "              m\n",
    "Sia {(xi, yi)}i=0 un set di dati, che devono essere approssimati da un polinomio di \n",
    "    grado n ∈ N fissato.\n",
    "    p(x) = α0 + α1x + · · · + αnx^n\n",
    "Per calcolare i coefficienti del polinomio si deve risolvere un problema di minimi \n",
    "    quadrati in cui la matrice\n",
    "A `e definita come segue:\n",
    "    A = 1 x0 x0^2 ... x0^n\n",
    "        1 x1 x1^2 ... x1^n\n",
    "        .\n",
    "        .\n",
    "        .\n",
    "        1 xm xm^2 ... xm^n\n",
    "Mentre il termine noto `e:\n",
    "    y =    y0\n",
    "            .\n",
    "            .\n",
    "            .\n",
    "            ym\n",
    "Exercise 2.1. Date le seguenti funzioni:\n",
    "• f(x) = exp(x/2) x ∈ [−1, 1]\n",
    "• f(x) = 1\n",
    "1+25∗x2 x ∈ [−1, 1]\n",
    "• f(x) = sin(x) + cos(x) x ∈ [0, 2π]\n",
    "Si eseguano le seguenti richieste per ciascuna delle funzioni date:\n",
    "1. Calcolare m = 10 coppie di punti (xi, f(xi))\n",
    "2. Per n fissato calcolare una soluzione del problema di minimi quadrati, descritto sopra, \n",
    "    utilizzando un metodo a scelta tra quelli utilizzati nell’esercizio precedente.\"\"\"\n",
    "case = 2\n",
    "m = 10\n",
    "m_plot = 100\n",
    "\n",
    "# Grado polinomio approssimante\n",
    "n = 5\n",
    "\n",
    "if case==0:\n",
    "    x = np.linspace(-1,1,m)\n",
    "    y = np.exp(x/2)\n",
    "elif case==1:\n",
    "    x = np.linspace(-1,1,m)\n",
    "    y = 1/(1+25*(x**2))\n",
    "elif case==2:\n",
    "    x = np.linspace(0,2*np.pi,m)\n",
    "    y = np.sin(x)+np.cos(x)\n",
    "\n",
    "\n",
    "A = np.zeros((m,n+1))\n",
    "\n",
    "for i in range(n+1):\n",
    "  A[:, i] = x**i\n",
    "  \n",
    "U, s, Vh = scipy.linalg.svd(A)\n",
    "\n",
    "\n",
    "alpha_svd = np.zeros(n+1)\n",
    "\n",
    "for i in range(n+1):\n",
    "  ui = U[:, i]\n",
    "  vi = Vh[i, :]\n",
    "\n",
    "  alpha_svd = alpha_svd + (np.dot(ui,y) * vi)/s[i]\n",
    "\n",
    "print(alpha_svd)"
   ]
  },
  {
   "cell_type": "code",
   "execution_count": 5,
   "id": "87a27fd4-d673-474b-9413-50fe7045b5fa",
   "metadata": {},
   "outputs": [
    {
     "data": {
      "image/png": "[encoded data removed]",
      "text/plain": [
       "<Figure size 640x480 with 1 Axes>"
      ]
     },
     "metadata": {},
     "output_type": "display_data"
    }
   ],
   "source": [
    "\"\"\"3. Per ciascun valore di n ∈ {1, 2, 3, 5, 7}, creare una figura con il grafico \n",
    "    della funzione esatta f(x) insieme a quello del polinomio di approssimazione p(x), \n",
    "    evidenziando gli m punti noti.\"\"\"\n",
    "x_plot = np.linspace(x[0], x[-1], m_plot)\n",
    "A_plot = np.zeros((m_plot, n+1))\n",
    "\n",
    "for i in range(n+1):\n",
    "  A_plot[:, i] = x_plot**i\n",
    "\n",
    "y_interpolation = A_plot@alpha_svd #alpha_svd = c\n",
    "\n",
    "plt.plot(x, y, 'o') #x  parte di dati da approx\n",
    "plt.plot(x_plot, y_interpolation, 'r') #x_plot  vettore(ascissa) che  si necessta x rappresentare dati sul plot\n",
    "plt.xlabel('x')\n",
    "plt.ylabel('y')\n",
    "plt.title(f'Interpolazione polinomiale di grado {n}')\n",
    "plt.grid()\n",
    "plt.show()"
   ]
  },
  {
   "cell_type": "code",
   "execution_count": 6,
   "id": "348174ec-38c9-4249-ab9d-c0a7d295a828",
   "metadata": {},
   "outputs": [
    {
     "name": "stdout",
     "output_type": "stream",
     "text": [
      "Residual:  0.06559431617548454\n"
     ]
    }
   ],
   "source": [
    "\"\"\"4. Per ciascun valore di n ∈ {1, 2, 3, 5, 7}, calcolare e stampare il valore del \n",
    "    residuo in norma 2 commesso nei punti xi.\"\"\"\n",
    "res = np.linalg.norm(y - A@alpha_svd)\n",
    "print('Residual: ', res)"
   ]
  }
 ],
 "metadata": {
  "kernelspec": {
   "display_name": "Python 3 (ipykernel)",
   "language": "python",
   "name": "python3"
  },
  "language_info": {
   "codemirror_mode": {
    "name": "ipython",
    "version": 3
   },
   "file_extension": ".py",
   "mimetype": "text/x-python",
   "name": "python",
   "nbconvert_exporter": "python",
   "pygments_lexer": "ipython3",
   "version": "3.10.12"
  }
 },
 "nbformat": 4,
 "nbformat_minor": 5
}
