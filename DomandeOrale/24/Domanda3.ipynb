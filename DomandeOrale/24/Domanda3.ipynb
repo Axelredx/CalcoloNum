{
 "cells": [
  {
   "cell_type": "code",
   "execution_count": 6,
   "id": "73829898-843a-4060-974d-66c800e3f6f7",
   "metadata": {},
   "outputs": [],
   "source": [
    "\"\"\"Domanda 3 (Sistemi lineari). Dato un problema test di dimensioni variabili\n",
    "                                    Ax = b\n",
    "la cui soluzione esatta è il vettore x̄ = (1, . . . , 1)T e b è il termine noto, \n",
    "ottenuto come Ax̄ calcolare:\n",
    "    • il numero di condizionamento della matrice A\n",
    "    • la soluzione x del sistema lineare Ax = b mediante la fattorizzazione di Cholesky\n",
    "Considerare come matrice A la matrice di Hilbert di dimensioni n tra 2 e 15.\"\"\"\n",
    "import numpy as np\n",
    "from scipy.linalg import hilbert\n",
    "from numpy.linalg import cholesky"
   ]
  },
  {
   "cell_type": "code",
   "execution_count": 11,
   "id": "41dff6a5-3541-475c-bf59-d8d478a5f2f7",
   "metadata": {},
   "outputs": [
    {
     "name": "stdout",
     "output_type": "stream",
     "text": [
      "n: 5 \n",
      "\n",
      "Matrice A (Hilbert): \n",
      " [[1.         0.5        0.33333333 0.25       0.2       ]\n",
      " [0.5        0.33333333 0.25       0.2        0.16666667]\n",
      " [0.33333333 0.25       0.2        0.16666667 0.14285714]\n",
      " [0.25       0.2        0.16666667 0.14285714 0.125     ]\n",
      " [0.2        0.16666667 0.14285714 0.125      0.11111111]] \n",
      "\n",
      "x: \n",
      " [1. 1. 1. 1. 1.] \n",
      "\n",
      "b: \n",
      " [2.28333333 1.45       1.09285714 0.88452381 0.74563492] \n",
      "\n",
      "K(A)_1 =  943656.0000063396 \n",
      "\n",
      "K(A)_2 =  476607.2502425855 \n",
      "\n",
      "K(A)_fro =  480849.11699795065 \n",
      "\n",
      "K(A)_inf =  943656.0000063627 \n",
      "\n",
      "Soluzione calcolata x: \n",
      " [1. 1. 1. 1. 1.]\n"
     ]
    }
   ],
   "source": [
    "n = np.random.randint(2, 16)\n",
    "A = A = hilbert(n)\n",
    "x_exact = np.ones(n)\n",
    "b = np.dot(A, x_exact)\n",
    "print('n:', n, '\\n')\n",
    "print('Matrice A (Hilbert): \\n', A, '\\n')\n",
    "print('x: \\n', x_exact, '\\n')\n",
    "print('b: \\n', b, '\\n')\n",
    "\n",
    "cond1 = np.linalg.cond(A, 1)\n",
    "cond2 = np.linalg.cond(A, 2)\n",
    "condfro = np.linalg.cond(A, 'fro')\n",
    "condinf = np.linalg.cond(A, np.inf)\n",
    "\n",
    "print ('K(A)_1 = ', cond1, '\\n')\n",
    "print ('K(A)_2 = ', cond2, '\\n')\n",
    "print ('K(A)_fro = ', condfro, '\\n')\n",
    "print ('K(A)_inf = ', condinf, '\\n')\n",
    "\n",
    "# Calcolo della fattorizzazione di Cholesky\n",
    "L = cholesky(A)\n",
    "x_calculated = np.linalg.solve(L.T, np.linalg.solve(L, b))\n",
    "print(f\"Soluzione calcolata x: \\n {x_calculated}\")"
   ]
  }
 ],
 "metadata": {
  "kernelspec": {
   "display_name": "Python 3 (ipykernel)",
   "language": "python",
   "name": "python3"
  },
  "language_info": {
   "codemirror_mode": {
    "name": "ipython",
    "version": 3
   },
   "file_extension": ".py",
   "mimetype": "text/x-python",
   "name": "python",
   "nbconvert_exporter": "python",
   "pygments_lexer": "ipython3",
   "version": "3.10.12"
  }
 },
 "nbformat": 4,
 "nbformat_minor": 5
}
