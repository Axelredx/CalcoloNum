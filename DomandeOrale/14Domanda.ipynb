{
 "cells": [
  {
   "cell_type": "code",
   "execution_count": null,
   "id": "cdbd6bb5-589f-4b14-ac49-69de4ea75d52",
   "metadata": {},
   "outputs": [],
   "source": [
    "\"\"\"Domanda 14 (Super Resolution). Discutere la ricostruzione di un’immagine corrotta da blur,\n",
    "downsampling e rumore, mostrando la soluzione naive, ottenuta risolvendo il problema dei \n",
    "minimi quadrati e la soluzione ottenuta con il metodo di regolarizzazione di Tikhonov. \n",
    "Mostrare inoltre le immagini ricostruite e i grafici dei parametri PSNR e MSE al variare \n",
    "del numero di iterazioni. Infine discutere i risultati al variare del parametro di \n",
    "regolarizzazione λ.\"\"\""
   ]
  }
 ],
 "metadata": {
  "kernelspec": {
   "display_name": "Python 3 (ipykernel)",
   "language": "python",
   "name": "python3"
  },
  "language_info": {
   "codemirror_mode": {
    "name": "ipython",
    "version": 3
   },
   "file_extension": ".py",
   "mimetype": "text/x-python",
   "name": "python",
   "nbconvert_exporter": "python",
   "pygments_lexer": "ipython3",
   "version": "3.10.12"
  }
 },
 "nbformat": 4,
 "nbformat_minor": 5
}
