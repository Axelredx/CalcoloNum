{
 "cells": [
  {
   "cell_type": "code",
   "execution_count": 1,
   "id": "9f285f85-9a96-4412-9efb-37dfac957a76",
   "metadata": {},
   "outputs": [],
   "source": [
    "\"\"\"Domanda 2 (Sistemi lineari). Dato un problema test di dimensioni variabili\n",
    "                                    Ax = b\n",
    "la cui soluzione esatta è il vettore x̄ = (1, . . . , 1)T e b è il termine noto, ottenuto \n",
    "come Ax̄ calcolare:\n",
    "    • il numero di condizionamento della matrice A\n",
    "    • la soluzione x del sistema lineare Ax = b mediante la fattorizzazione di Cholesky\n",
    "Considerare come matrice A la matrice tridiagonale simmetrica definita positiva, avente \n",
    "sulla diagonale principale elementi uguali a 9 ed elementi nella sopra e sottodiagonale \n",
    "uguali a -4, con n variabile.\"\"\"\n",
    "import numpy as np\n",
    "from numpy.linalg import cholesky"
   ]
  },
  {
   "cell_type": "code",
   "execution_count": 4,
   "id": "720ad0a0-cb7f-431a-99d6-054d5117d698",
   "metadata": {},
   "outputs": [
    {
     "name": "stdout",
     "output_type": "stream",
     "text": [
      "n: 235 \n",
      "\n",
      "Matrice A: \n",
      " [[ 9. -4.  0. ...  0.  0.  0.]\n",
      " [-4.  9. -4. ...  0.  0.  0.]\n",
      " [ 0. -4.  9. ...  0.  0.  0.]\n",
      " ...\n",
      " [ 0.  0.  0. ...  9. -4.  0.]\n",
      " [ 0.  0.  0. ... -4.  9. -4.]\n",
      " [ 0.  0.  0. ...  0. -4.  9.]] \n",
      "\n",
      "x: \n",
      " [1. 1. 1. 1. 1. 1. 1. 1. 1. 1. 1. 1. 1. 1. 1. 1. 1. 1. 1. 1. 1. 1. 1. 1.\n",
      " 1. 1. 1. 1. 1. 1. 1. 1. 1. 1. 1. 1. 1. 1. 1. 1. 1. 1. 1. 1. 1. 1. 1. 1.\n",
      " 1. 1. 1. 1. 1. 1. 1. 1. 1. 1. 1. 1. 1. 1. 1. 1. 1. 1. 1. 1. 1. 1. 1. 1.\n",
      " 1. 1. 1. 1. 1. 1. 1. 1. 1. 1. 1. 1. 1. 1. 1. 1. 1. 1. 1. 1. 1. 1. 1. 1.\n",
      " 1. 1. 1. 1. 1. 1. 1. 1. 1. 1. 1. 1. 1. 1. 1. 1. 1. 1. 1. 1. 1. 1. 1. 1.\n",
      " 1. 1. 1. 1. 1. 1. 1. 1. 1. 1. 1. 1. 1. 1. 1. 1. 1. 1. 1. 1. 1. 1. 1. 1.\n",
      " 1. 1. 1. 1. 1. 1. 1. 1. 1. 1. 1. 1. 1. 1. 1. 1. 1. 1. 1. 1. 1. 1. 1. 1.\n",
      " 1. 1. 1. 1. 1. 1. 1. 1. 1. 1. 1. 1. 1. 1. 1. 1. 1. 1. 1. 1. 1. 1. 1. 1.\n",
      " 1. 1. 1. 1. 1. 1. 1. 1. 1. 1. 1. 1. 1. 1. 1. 1. 1. 1. 1. 1. 1. 1. 1. 1.\n",
      " 1. 1. 1. 1. 1. 1. 1. 1. 1. 1. 1. 1. 1. 1. 1. 1. 1. 1. 1.] \n",
      "\n",
      "b: \n",
      " [5. 1. 1. 1. 1. 1. 1. 1. 1. 1. 1. 1. 1. 1. 1. 1. 1. 1. 1. 1. 1. 1. 1. 1.\n",
      " 1. 1. 1. 1. 1. 1. 1. 1. 1. 1. 1. 1. 1. 1. 1. 1. 1. 1. 1. 1. 1. 1. 1. 1.\n",
      " 1. 1. 1. 1. 1. 1. 1. 1. 1. 1. 1. 1. 1. 1. 1. 1. 1. 1. 1. 1. 1. 1. 1. 1.\n",
      " 1. 1. 1. 1. 1. 1. 1. 1. 1. 1. 1. 1. 1. 1. 1. 1. 1. 1. 1. 1. 1. 1. 1. 1.\n",
      " 1. 1. 1. 1. 1. 1. 1. 1. 1. 1. 1. 1. 1. 1. 1. 1. 1. 1. 1. 1. 1. 1. 1. 1.\n",
      " 1. 1. 1. 1. 1. 1. 1. 1. 1. 1. 1. 1. 1. 1. 1. 1. 1. 1. 1. 1. 1. 1. 1. 1.\n",
      " 1. 1. 1. 1. 1. 1. 1. 1. 1. 1. 1. 1. 1. 1. 1. 1. 1. 1. 1. 1. 1. 1. 1. 1.\n",
      " 1. 1. 1. 1. 1. 1. 1. 1. 1. 1. 1. 1. 1. 1. 1. 1. 1. 1. 1. 1. 1. 1. 1. 1.\n",
      " 1. 1. 1. 1. 1. 1. 1. 1. 1. 1. 1. 1. 1. 1. 1. 1. 1. 1. 1. 1. 1. 1. 1. 1.\n",
      " 1. 1. 1. 1. 1. 1. 1. 1. 1. 1. 1. 1. 1. 1. 1. 1. 1. 1. 5.] \n",
      "\n",
      "K(A)_1 =  17.0 \n",
      "\n",
      "K(A)_2 =  16.987250472214555 \n",
      "\n",
      "K(A)_fro =  889.0504833450791 \n",
      "\n",
      "K(A)_inf =  17.000000000000004 \n",
      "\n",
      "Soluzione calcolata x: \n",
      " [1. 1. 1. 1. 1. 1. 1. 1. 1. 1. 1. 1. 1. 1. 1. 1. 1. 1. 1. 1. 1. 1. 1. 1.\n",
      " 1. 1. 1. 1. 1. 1. 1. 1. 1. 1. 1. 1. 1. 1. 1. 1. 1. 1. 1. 1. 1. 1. 1. 1.\n",
      " 1. 1. 1. 1. 1. 1. 1. 1. 1. 1. 1. 1. 1. 1. 1. 1. 1. 1. 1. 1. 1. 1. 1. 1.\n",
      " 1. 1. 1. 1. 1. 1. 1. 1. 1. 1. 1. 1. 1. 1. 1. 1. 1. 1. 1. 1. 1. 1. 1. 1.\n",
      " 1. 1. 1. 1. 1. 1. 1. 1. 1. 1. 1. 1. 1. 1. 1. 1. 1. 1. 1. 1. 1. 1. 1. 1.\n",
      " 1. 1. 1. 1. 1. 1. 1. 1. 1. 1. 1. 1. 1. 1. 1. 1. 1. 1. 1. 1. 1. 1. 1. 1.\n",
      " 1. 1. 1. 1. 1. 1. 1. 1. 1. 1. 1. 1. 1. 1. 1. 1. 1. 1. 1. 1. 1. 1. 1. 1.\n",
      " 1. 1. 1. 1. 1. 1. 1. 1. 1. 1. 1. 1. 1. 1. 1. 1. 1. 1. 1. 1. 1. 1. 1. 1.\n",
      " 1. 1. 1. 1. 1. 1. 1. 1. 1. 1. 1. 1. 1. 1. 1. 1. 1. 1. 1. 1. 1. 1. 1. 1.\n",
      " 1. 1. 1. 1. 1. 1. 1. 1. 1. 1. 1. 1. 1. 1. 1. 1. 1. 1. 1.]\n"
     ]
    }
   ],
   "source": [
    "n = np.random.randint(10, 1001)\n",
    "A = np.diag(9 * np.ones(n)) + np.diag(-4 * np.ones(n-1), k=1) + np.diag(-4 * np.ones(n-1), k=-1)\n",
    "x_exact = np.ones(n)\n",
    "b = np.dot(A, x_exact)\n",
    "print('n:', n, '\\n')\n",
    "print('Matrice A: \\n', A, '\\n')\n",
    "print('x: \\n', x_exact, '\\n')\n",
    "print('b: \\n', b, '\\n')\n",
    "\n",
    "cond1 = np.linalg.cond(A, 1)\n",
    "cond2 = np.linalg.cond(A, 2)\n",
    "condfro = np.linalg.cond(A, 'fro')\n",
    "condinf = np.linalg.cond(A, np.inf)\n",
    "\n",
    "print ('K(A)_1 = ', cond1, '\\n')\n",
    "print ('K(A)_2 = ', cond2, '\\n')\n",
    "print ('K(A)_fro = ', condfro, '\\n')\n",
    "print ('K(A)_inf = ', condinf, '\\n')\n",
    "\n",
    "# Calcolo della fattorizzazione di Cholesky\n",
    "L = cholesky(A)\n",
    "x_calculated = np.linalg.solve(L.T, np.linalg.solve(L, b))\n",
    "print(f\"Soluzione calcolata x: \\n {x_calculated}\")"
   ]
  }
 ],
 "metadata": {
  "kernelspec": {
   "display_name": "Python 3 (ipykernel)",
   "language": "python",
   "name": "python3"
  },
  "language_info": {
   "codemirror_mode": {
    "name": "ipython",
    "version": 3
   },
   "file_extension": ".py",
   "mimetype": "text/x-python",
   "name": "python",
   "nbconvert_exporter": "python",
   "pygments_lexer": "ipython3",
   "version": "3.10.12"
  }
 },
 "nbformat": 4,
 "nbformat_minor": 5
}
